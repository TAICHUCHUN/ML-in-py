{
 "cells": [
  {
   "cell_type": "code",
   "execution_count": 1,
   "metadata": {
    "collapsed": true
   },
   "outputs": [],
   "source": [
    "import numpy as np\n",
    "import pandas as pd\n",
    "import random"
   ]
  },
  {
   "cell_type": "code",
   "execution_count": 2,
   "metadata": {},
   "outputs": [
    {
     "name": "stdout",
     "output_type": "stream",
     "text": [
      "kaggle_week1.ipynb\n",
      "sample_submission.csv\n",
      "test_ver2.csv\n",
      "train_ver2.csv\n",
      "\n"
     ]
    }
   ],
   "source": [
    "from subprocess import check_output\n",
    "print(check_output([\"ls\", \"/Users/micotai/Documents/kaggle\"]).decode(\"utf8\"))"
   ]
  },
  {
   "cell_type": "markdown",
   "metadata": {},
   "source": [
    "### 資料大小處理\n",
    "資料有1300多萬筆，為使運算時間不過長，作者取1000筆探勘使用。"
   ]
  },
  {
   "cell_type": "code",
   "execution_count": 3,
   "metadata": {},
   "outputs": [
    {
     "name": "stdout",
     "output_type": "stream",
     "text": [
      "13647309\n"
     ]
    }
   ],
   "source": [
    "N_ROWS = 1000\n",
    "filename = \"/Users/micotai/Documents/kaggle/train_ver2.csv\"\n",
    "\n",
    "n = sum(1 for line in open(filename)) - 1 #number of records in file (excludes header)\n",
    "#n = 13647309 number of records in train_ver2.csv\n",
    "print(n)\n",
    "skip = sorted(random.sample(range(1,n+1),n-N_ROWS)) #the 0-indexed header will not be included in the skip list"
   ]
  },
  {
   "cell_type": "code",
   "execution_count": 4,
   "metadata": {},
   "outputs": [
    {
     "name": "stdout",
     "output_type": "stream",
     "text": [
      "(1000, 48)\n"
     ]
    }
   ],
   "source": [
    "df = pd.read_csv(filename, skiprows=skip)\n",
    "print(df.shape)"
   ]
  },
  {
   "cell_type": "markdown",
   "metadata": {},
   "source": [
    "### 欄位格式調整\n",
    "將'fecha_dato'、'fecha_alta'(最早往來日期)，功用、用法類似之前的pandas.to_numeric"
   ]
  },
  {
   "cell_type": "code",
   "execution_count": 5,
   "metadata": {
    "collapsed": true
   },
   "outputs": [],
   "source": [
    "df['fecha_dato'] = pd.to_datetime(df['fecha_dato'])\n",
    "df['fecha_alta'] = pd.to_datetime(df['fecha_alta'])"
   ]
  },
  {
   "cell_type": "markdown",
   "metadata": {},
   "source": [
    "###  挑選特定欄位\n",
    "取出產品持有狀態註記的所有欄位\n",
    "<a href=\"https://www.ibm.com/developerworks/cn/opensource/os-cn-pythonre/index.html\">re module參考資料</a>\n"
   ]
  },
  {
   "cell_type": "code",
   "execution_count": 6,
   "metadata": {},
   "outputs": [
    {
     "name": "stdout",
     "output_type": "stream",
     "text": [
      "['ind_ahor_fin_ult1', 'ind_aval_fin_ult1', 'ind_cco_fin_ult1', 'ind_cder_fin_ult1', 'ind_cno_fin_ult1', 'ind_ctju_fin_ult1', 'ind_ctma_fin_ult1', 'ind_ctop_fin_ult1', 'ind_ctpp_fin_ult1', 'ind_deco_fin_ult1', 'ind_deme_fin_ult1', 'ind_dela_fin_ult1', 'ind_ecue_fin_ult1', 'ind_fond_fin_ult1', 'ind_hip_fin_ult1', 'ind_plan_fin_ult1', 'ind_pres_fin_ult1', 'ind_reca_fin_ult1', 'ind_tjcr_fin_ult1', 'ind_valo_fin_ult1', 'ind_viv_fin_ult1', 'ind_nomina_ult1', 'ind_nom_pens_ult1', 'ind_recibo_ult1', 'ncodpers']\n"
     ]
    }
   ],
   "source": [
    "import re \n",
    "\n",
    "pattern = re.compile(\"ind_.*_ult1\")\n",
    "\n",
    "prod_cols = [ x for x in df.columns if re.match(pattern,x) ]\n",
    "prod_cols.append(\"ncodpers\") #加上客戶代碼欄位\n",
    "print(prod_cols)"
   ]
  },
  {
   "cell_type": "markdown",
   "metadata": {},
   "source": [
    "### 敘述性統計\n",
    "平均數、標準差、最小值、第一四分位數、中位數、第三四分位數、最大值。"
   ]
  },
  {
   "cell_type": "code",
   "execution_count": 7,
   "metadata": {},
   "outputs": [
    {
     "name": "stdout",
     "output_type": "stream",
     "text": [
      "         fecha_dato      ncodpers    fecha_alta   ind_nuevo  indrel  \\\n",
      "count  7.820000e+02  7.820000e+02  7.820000e+02  782.000000   782.0   \n",
      "mean   1.444646e+18  8.055233e+05  1.225157e+18    0.029412     1.0   \n",
      "std    1.268172e+16  4.241978e+05  1.755669e+17    0.169066     0.0   \n",
      "min    1.422403e+18  1.784300e+04  8.048160e+17    0.000000     1.0   \n",
      "25%    1.435450e+18  4.239630e+05  1.067256e+18    0.000000     1.0   \n",
      "50%    1.445990e+18  9.145225e+05  1.311163e+18    0.000000     1.0   \n",
      "75%    1.453939e+18  1.192653e+06  1.381709e+18    0.000000     1.0   \n",
      "max    1.464394e+18  1.454558e+06  1.442534e+18    1.000000     1.0   \n",
      "\n",
      "       indrel_1mes  tipodom    cod_prov  ind_actividad_cliente         renta  \\\n",
      "count        782.0    782.0  782.000000             782.000000  7.820000e+02   \n",
      "mean           1.0      1.0   26.823529               0.455243  1.408708e+05   \n",
      "std            0.0      0.0   12.309165               0.498311  2.549303e+05   \n",
      "min            1.0      1.0    2.000000               0.000000  1.711026e+04   \n",
      "25%            1.0      1.0   18.000000               0.000000  6.699082e+04   \n",
      "50%            1.0      1.0   28.000000               0.000000  1.001037e+05   \n",
      "75%            1.0      1.0   33.000000               1.000000  1.561694e+05   \n",
      "max            1.0      1.0   52.000000               1.000000  6.261822e+06   \n",
      "\n",
      "                  ...               nomprov_TARRAGONA  nomprov_TERUEL  \\\n",
      "count             ...                      782.000000      782.000000   \n",
      "mean              ...                        0.007673        0.005115   \n",
      "std               ...                        0.087313        0.071382   \n",
      "min               ...                        0.000000        0.000000   \n",
      "25%               ...                        0.000000        0.000000   \n",
      "50%               ...                        0.000000        0.000000   \n",
      "75%               ...                        0.000000        0.000000   \n",
      "max               ...                        1.000000        1.000000   \n",
      "\n",
      "       nomprov_TOLEDO  nomprov_VALENCIA  nomprov_VALLADOLID  nomprov_ZAMORA  \\\n",
      "count       782.00000        782.000000          782.000000      782.000000   \n",
      "mean          0.01023          0.049872            0.016624        0.003836   \n",
      "std           0.10069          0.217820            0.127940        0.061859   \n",
      "min           0.00000          0.000000            0.000000        0.000000   \n",
      "25%           0.00000          0.000000            0.000000        0.000000   \n",
      "50%           0.00000          0.000000            0.000000        0.000000   \n",
      "75%           0.00000          0.000000            0.000000        0.000000   \n",
      "max           1.00000          1.000000            1.000000        1.000000   \n",
      "\n",
      "       nomprov_ZARAGOZA  segmento_01 - TOP  segmento_02 - PARTICULARES  \\\n",
      "count        782.000000         782.000000                  782.000000   \n",
      "mean           0.025575           0.048593                    0.618926   \n",
      "std            0.157966           0.215154                    0.485962   \n",
      "min            0.000000           0.000000                    0.000000   \n",
      "25%            0.000000           0.000000                    0.000000   \n",
      "50%            0.000000           0.000000                    1.000000   \n",
      "75%            0.000000           0.000000                    1.000000   \n",
      "max            1.000000           1.000000                    1.000000   \n",
      "\n",
      "       segmento_03 - UNIVERSITARIO  \n",
      "count                   782.000000  \n",
      "mean                      0.331202  \n",
      "std                       0.470947  \n",
      "min                       0.000000  \n",
      "25%                       0.000000  \n",
      "50%                       0.000000  \n",
      "75%                       1.000000  \n",
      "max                       1.000000  \n",
      "\n",
      "[8 rows x 463 columns]\n"
     ]
    }
   ],
   "source": [
    "df_dummiesed = pd.get_dummies(df) #將資料變數轉為虛擬變數\n",
    "df_dummiesed = df_dummiesed.drop_duplicates(subset=\"ncodpers\",keep=\"last\") #刪除重複資料\n",
    "df_dummiesed[\"fecha_alta\"] = pd.to_numeric(df_dummiesed[\"fecha_alta\"]) #轉為數值變數\n",
    "df_dummiesed[\"fecha_dato\"] = pd.to_numeric(df_dummiesed[\"fecha_dato\"]) #轉為數值變數\n",
    "#df_dummiesed = df_dummiesed.drop(\"conyuemp\",axis=1).fillna(df_dummiesed.mean()) #處理空值(全部補平均值)，但其實不能這樣做\n",
    "df_dummiesed = df_dummiesed.drop(\"conyuemp\",axis=1).dropna() #刪除\"conyuemp\"員工配偶註記欄位，並刪除有任一空值的資料列\n",
    "\n",
    "print(df_dummiesed.describe())"
   ]
  },
  {
   "cell_type": "markdown",
   "metadata": {},
   "source": [
    "### 用KMeans進行客戶分群"
   ]
  },
  {
   "cell_type": "code",
   "execution_count": 8,
   "metadata": {},
   "outputs": [
    {
     "data": {
      "image/png": "[encoded data removed]",
      "text/plain": [
       "<matplotlib.figure.Figure at 0x132a3c978>"
      ]
     },
     "metadata": {},
     "output_type": "display_data"
    }
   ],
   "source": [
    "from sklearn.cluster import KMeans\n",
    "from sklearn.metrics import silhouette_score\n",
    "import seaborn as sns\n",
    "import matplotlib.pyplot as plt\n",
    "\n",
    "s = []\n",
    "for n_clusters in range(2,20):\n",
    "    kmeans = KMeans(n_clusters=n_clusters)\n",
    "    kmeans.fit(df_dummiesed)\n",
    "\n",
    "    labels = kmeans.labels_\n",
    "    centroids = kmeans.cluster_centers_\n",
    "\n",
    "    s.append(silhouette_score(df_dummiesed, labels, metric='euclidean'))\n",
    "\n",
    "plt.plot(s)\n",
    "plt.xticks(np.linspace(2, 20, 10)) #我額外增加的，讓X軸座標能固定下來，方便觀察\n",
    "plt.ylabel(\"Silouette\")\n",
    "plt.xlabel(\"k\")\n",
    "plt.title(\"Silouette for K-means cell's behaviour\")\n",
    "sns.despine() #讓圖不要有上面和右邊的框線\n",
    "plt.show()"
   ]
  },
  {
   "cell_type": "code",
   "execution_count": 9,
   "metadata": {},
   "outputs": [
    {
     "data": {
      "image/png": "[encoded data removed]",
      "text/plain": [
       "<matplotlib.figure.Figure at 0x132a3c198>"
      ]
     },
     "metadata": {},
     "output_type": "display_data"
    }
   ],
   "source": [
    "from sklearn.cluster import KMeans\n",
    "wcss = []\n",
    "for i in range(1, 11):\n",
    "    kmeans = KMeans(n_clusters = i, init = 'k-means++', random_state = 42)\n",
    "    kmeans.fit(df_dummiesed)\n",
    "    wcss.append(kmeans.inertia_)\n",
    "plt.plot(range(1, 11), wcss)\n",
    "plt.xticks(np.linspace(1, 11, 11))\n",
    "plt.title('The Elbow Method')\n",
    "plt.xlabel('Number of clusters')\n",
    "plt.ylabel('WCSS')\n",
    "sns.despine()\n",
    "plt.show()"
   ]
  },
  {
   "cell_type": "markdown",
   "metadata": {},
   "source": [
    "### 分群結果的各群個數"
   ]
  },
  {
   "cell_type": "code",
   "execution_count": 27,
   "metadata": {
    "scrolled": true
   },
   "outputs": [
    {
     "name": "stdout",
     "output_type": "stream",
     "text": [
      "[ 5  7  5  7  7  8  8  8  1  8  8  8  8  1  1  1  1  1  1  1  0  0  0  0  9\n",
      "  9  9  3  3  4  3  3 10 10  4  2  2  6  6  6  6  4  4  9  6  6  2  2  4  4\n",
      "  4  4 10  7  0  1  1  1  1  1  1  1  1  8  8  8  8  8  7  7  7  7  7  7  7\n",
      "  7  5  5  5  5  5  5  6  4  4  6  6  2  2  2  4 10 10 10 10 10 10  3  3  3\n",
      "  7  0  9  9  0  0  0  0  1  1  1  8  1  1  8  3  8  8  7  7  7  7  5  9  9\n",
      "  9  2  2  4  4 10 10 10 10  9  3  3  0  1  1  1  8  1  8  8  8  8  8  8  8\n",
      "  5  5  5  5  5  5  5  5  5  5  5  7  5  7  7  8  8  8  8  8  1  8  1  1  0\n",
      "  0  9  9  3  2 10 10 10  4  4  4  4  4  2  6  9  4  5  5  5  5  5  1  1  5\n",
      "  7  7  7  8  7  5  8  8  8  8  1  1  1  0  0  0  0  0 10 10 10 10  9  9  8\n",
      "  4  4  4  4  7  4  4  4  4  6  6  6  7  7  2  7  2 10 10  0  3 10  0  9  9\n",
      "  0  0  0  5  5  5  5  5  5  1  1  7  5  7  7  7  5  5  5  5  5  5  8  8  8\n",
      "  1  1  1  8  7  7  7  2  2  7  5  5  5  5  7  7  9  6  6  2  4  4  4  4  8\n",
      "  8  8  8  8  8  8  8  8  8  8  8  8  5  5  5  5  1  1  1  1  1  1 10 10  0\n",
      " 10  3 10  7  0  0  0  6  6  6  6  4  6  6  6  6  6  2  2  2  7  7  4 10  3\n",
      "  3  0  0  9  0  0  1  1  1  4  4  4  8  8  8  2  2  5  5  5  7  7  7  7  7\n",
      "  1  8  8  8  8  8  1  5  7  7  7  7  5  5  5  8  8  8  8  8  1  1  1  8  8\n",
      "  8  8  6  6  9  3  3  3 10 10 10  0 10  2  2  2  2  7  7  2  7  6  6  6  6\n",
      "  6  4  4  6  6  9  0  9  9  2  4  6  4  4  8  3  8  3 10  0 10 10 10 10  3\n",
      "  3  1  1  1  8  1  1  8  8  8  8  7  7  7  2  7  5  5  5  1  5  5  8  5  5\n",
      "  7  5  5  5  7  7  5  5  5  2  2  2  7  7  7  1  1  1  8  8  8  8  1  5  5\n",
      "  0  0  9  0 10  0  9  0  3  3  0 10 10  0 10  4  4  6  9  9  6  2  6  6  8\n",
      "  8  8  8  8  8  8  8  8  8  3  0  3  3 10  3  0  8  8  8  8  8  8  8  8  8\n",
      "  1  1  1  1  1  1  2  2  4  4  7  7  7  2  2  7  6  6  6  6  6  4  0  0  0\n",
      "  0  9  9  9  9  9  9  9  7  7  7  5  5  5  5  8  8  8  8  8  8  1  8  8  8\n",
      "  8  8  8  6  6  6  9  0  9  4  4  6  4 10  2  3  3  0  6  5  5  5  7  1  1\n",
      "  1  4  4  7  7  7  7  8  8  8  1  8  8  8  8  0  3  3  3  3 10  9  6  6  9\n",
      "  0  0  0  0  2  2  7  6  6  4  6  6  6  4  4  4  1  1  1  1  1  1  7  7  7\n",
      "  5  4  4  4  4  6  6  6  6  2  2  2  2  2  3 10 10  3  0 10  9  9  0  0  0\n",
      "  5  5  5  5  8  1  7  5  5  7  7  7  8  8  8  8  8  1  8  8  8  8  1  1  1\n",
      "  8  8  8  8  8  4  4  4  4  4  4  7  7  7  2  2 10  0  0 10  3  3 10  6  9\n",
      "  2  9  9  6  9  0  0  0  0  0  0  8  8  8  8  8  8  8  5  5  5  5  7  5  1\n",
      "  1  1  1  1  1  1  1]\n"
     ]
    },
    {
     "data": {
      "image/png": "[encoded data removed]",
      "text/plain": [
       "<matplotlib.figure.Figure at 0x10e8adba8>"
      ]
     },
     "metadata": {},
     "output_type": "display_data"
    }
   ],
   "source": [
    "N_CLUSTERS = 11 #labels為群0-群10\n",
    "kmeans = KMeans(n_clusters=N_CLUSTERS)\n",
    "kmeans.fit(df_dummiesed)\n",
    "\n",
    "print(kmeans.labels_)\n",
    "plt.hist(kmeans.labels_,bins=[0,1, 2, 3, 4,5,6,7,8,9,10,11])\n",
    "plt.show()"
   ]
  },
  {
   "cell_type": "markdown",
   "metadata": {},
   "source": [
    "### 計算客戶間的cosine相似性"
   ]
  },
  {
   "cell_type": "code",
   "execution_count": 11,
   "metadata": {},
   "outputs": [
    {
     "name": "stdout",
     "output_type": "stream",
     "text": [
      "ncodpers   1096068   930405    1011009   977701    972705    1298480  \\\n",
      "ncodpers                                                               \n",
      "1096068   1.000000  0.999891  0.999975  0.999932  0.999929  0.999789   \n",
      "930405    0.999891  1.000000  0.999970  0.999995  0.999996  0.999377   \n",
      "1011009   0.999975  0.999970  1.000000  0.999989  0.999988  0.999620   \n",
      "977701    0.999932  0.999995  0.999989  1.000000  1.000000  0.999482   \n",
      "972705    0.999929  0.999996  0.999988  1.000000  1.000000  0.999473   \n",
      "1298480   0.999789  0.999377  0.999620  0.999482  0.999473  1.000000   \n",
      "1285560   0.999805  0.999405  0.999642  0.999507  0.999499  1.000000   \n",
      "1308212   0.999775  0.999353  0.999602  0.999460  0.999451  1.000000   \n",
      "1254565   0.999860  0.999505  0.999719  0.999598  0.999591  0.999993   \n",
      "1368879   0.999715  0.999254  0.999523  0.999369  0.999360  0.999994   \n",
      "1321291   0.999764  0.999334  0.999587  0.999443  0.999434  0.999999   \n",
      "1322742   0.999764  0.999334  0.999587  0.999443  0.999434  0.999999   \n",
      "1326813   0.999761  0.999330  0.999583  0.999438  0.999430  0.999999   \n",
      "1173622   0.999953  0.999701  0.999860  0.999772  0.999766  0.999941   \n",
      "1144358   0.999967  0.999737  0.999885  0.999804  0.999799  0.999923   \n",
      "1153570   0.999964  0.999730  0.999880  0.999797  0.999792  0.999927   \n",
      "1251808   0.999870  0.999524  0.999733  0.999615  0.999607  0.999990   \n",
      "1203465   0.999939  0.999668  0.999838  0.999743  0.999737  0.999955   \n",
      "1206494   0.999939  0.999666  0.999837  0.999742  0.999736  0.999955   \n",
      "1204354   0.999939  0.999667  0.999837  0.999742  0.999737  0.999955   \n",
      "292632    0.989521  0.991544  0.990508  0.991136  0.991170  0.986345   \n",
      "230737    0.988111  0.990271  0.989163  0.989834  0.989871  0.984743   \n",
      "245974    0.988449  0.990577  0.989486  0.990147  0.990183  0.985126   \n",
      "247700    0.989071  0.991138  0.990079  0.990721  0.990756  0.985832   \n",
      "384188    0.991595  0.993396  0.992476  0.993034  0.993065  0.988727   \n",
      "410100    0.992123  0.993863  0.992976  0.993515  0.993544  0.989339   \n",
      "396370    0.991727  0.993513  0.992602  0.993155  0.993185  0.988880   \n",
      "90700     0.979958  0.982791  0.981329  0.982212  0.982261  0.975658   \n",
      "92279     0.980218  0.983031  0.981580  0.982457  0.982505  0.975944   \n",
      "106842    0.998059  0.998869  0.998471  0.998717  0.998730  0.996569   \n",
      "...            ...       ...       ...       ...       ...       ...   \n",
      "422444    0.990804  0.992692  0.991727  0.992312  0.992344  0.987814   \n",
      "463180    0.992172  0.993907  0.993022  0.993559  0.993589  0.989397   \n",
      "438897    0.991426  0.993246  0.992317  0.992881  0.992912  0.988532   \n",
      "298206    0.987529  0.989744  0.988607  0.989295  0.989333  0.984085   \n",
      "262165    0.986718  0.989007  0.987831  0.988543  0.988582  0.983172   \n",
      "270300    0.987056  0.989315  0.988155  0.988857  0.988896  0.983552   \n",
      "363248    0.988782  0.990878  0.989804  0.990454  0.990490  0.985504   \n",
      "341041    0.988223  0.990373  0.989271  0.989938  0.989975  0.984870   \n",
      "333912    0.988126  0.990285  0.989177  0.989848  0.989885  0.984759   \n",
      "1362523   0.999961  0.999721  0.999874  0.999789  0.999784  0.999932   \n",
      "1341689   0.999969  0.999743  0.999888  0.999808  0.999803  0.999920   \n",
      "1274373   0.999988  0.999806  0.999928  0.999862  0.999858  0.999879   \n",
      "1281342   0.999987  0.999802  0.999926  0.999859  0.999855  0.999881   \n",
      "1310448   0.999977  0.999770  0.999906  0.999831  0.999827  0.999904   \n",
      "1305035   0.999979  0.999774  0.999909  0.999835  0.999831  0.999901   \n",
      "1416691   0.999870  0.999523  0.999732  0.999614  0.999607  0.999990   \n",
      "1097032   0.999895  1.000000  0.999972  0.999996  0.999997  0.999386   \n",
      "1099605   0.999898  1.000000  0.999973  0.999996  0.999997  0.999393   \n",
      "1108541   0.999905  0.999999  0.999977  0.999998  0.999998  0.999412   \n",
      "1111961   0.999911  0.999999  0.999980  0.999999  0.999999  0.999425   \n",
      "989943    0.999679  0.999944  0.999832  0.999906  0.999910  0.998947   \n",
      "1031514   0.999841  0.999995  0.999941  0.999981  0.999982  0.999263   \n",
      "1210055   0.999995  0.999934  0.999993  0.999965  0.999963  0.999716   \n",
      "1208694   0.999994  0.999935  0.999993  0.999966  0.999964  0.999713   \n",
      "1199812   0.999993  0.999939  0.999995  0.999969  0.999967  0.999705   \n",
      "1250174   0.999999  0.999871  0.999966  0.999916  0.999913  0.999815   \n",
      "1227999   0.999998  0.999921  0.999988  0.999955  0.999953  0.999741   \n",
      "1127960   0.999955  0.999986  0.999997  0.999998  0.999997  0.999550   \n",
      "1127154   0.999953  0.999987  0.999996  0.999998  0.999997  0.999544   \n",
      "1178171   0.999990  0.999948  0.999997  0.999975  0.999973  0.999685   \n",
      "\n",
      "ncodpers   1285560   1308212   1254565   1368879    ...      989943   \\\n",
      "ncodpers                                            ...                \n",
      "1096068   0.999805  0.999775  0.999860  0.999715    ...     0.999679   \n",
      "930405    0.999405  0.999353  0.999505  0.999254    ...     0.999944   \n",
      "1011009   0.999642  0.999602  0.999719  0.999523    ...     0.999832   \n",
      "977701    0.999507  0.999460  0.999598  0.999369    ...     0.999906   \n",
      "972705    0.999499  0.999451  0.999591  0.999360    ...     0.999910   \n",
      "1298480   1.000000  1.000000  0.999993  0.999994    ...     0.998947   \n",
      "1285560   1.000000  0.999999  0.999995  0.999991    ...     0.998983   \n",
      "1308212   0.999999  1.000000  0.999990  0.999996    ...     0.998915   \n",
      "1254565   0.999995  0.999990  1.000000  0.999974    ...     0.999116   \n",
      "1368879   0.999991  0.999996  0.999974  1.000000    ...     0.998788   \n",
      "1321291   0.999998  1.000000  0.999987  0.999998    ...     0.998891   \n",
      "1322742   0.999998  1.000000  0.999987  0.999998    ...     0.998891   \n",
      "1326813   0.999998  1.000000  0.999987  0.999998    ...     0.998885   \n",
      "1173622   0.999950  0.999934  0.999976  0.999900    ...     0.999385   \n",
      "1144358   0.999933  0.999915  0.999964  0.999877    ...     0.999438   \n",
      "1153570   0.999936  0.999919  0.999966  0.999881    ...     0.999428   \n",
      "1251808   0.999993  0.999987  1.000000  0.999970    ...     0.999140   \n",
      "1203465   0.999962  0.999948  0.999984  0.999917    ...     0.999339   \n",
      "1206494   0.999962  0.999949  0.999984  0.999918    ...     0.999336   \n",
      "1204354   0.999962  0.999948  0.999984  0.999918    ...     0.999337   \n",
      "292632    0.986476  0.986234  0.986971  0.985791    ...     0.992864   \n",
      "230737    0.984881  0.984625  0.985405  0.984158    ...     0.991691   \n",
      "245974    0.985262  0.985009  0.985779  0.984548    ...     0.991973   \n",
      "247700    0.985966  0.985719  0.986470  0.985268    ...     0.992491   \n",
      "384188    0.988846  0.988625  0.989295  0.988222    ...     0.994556   \n",
      "410100    0.989455  0.989241  0.989892  0.988849    ...     0.994980   \n",
      "396370    0.988999  0.988780  0.989445  0.988379    ...     0.994663   \n",
      "90700     0.975833  0.975510  0.976494  0.974922    ...     0.984694   \n",
      "92279     0.976118  0.975797  0.976776  0.975212    ...     0.984921   \n",
      "106842    0.996634  0.996513  0.996880  0.996287    ...     0.999317   \n",
      "...            ...       ...       ...       ...    ...          ...   \n",
      "422444    0.987938  0.987709  0.988405  0.987290    ...     0.993915   \n",
      "463180    0.989512  0.989299  0.989948  0.988907    ...     0.995019   \n",
      "438897    0.988652  0.988430  0.989106  0.988023    ...     0.994420   \n",
      "298206    0.984226  0.983965  0.984761  0.983487    ...     0.991203   \n",
      "262165    0.983317  0.983048  0.983867  0.982558    ...     0.990519   \n",
      "270300    0.983696  0.983430  0.984240  0.982945    ...     0.990805   \n",
      "363248    0.985639  0.985389  0.986149  0.984933    ...     0.992251   \n",
      "341041    0.985008  0.984753  0.985530  0.984287    ...     0.991785   \n",
      "333912    0.984898  0.984642  0.985421  0.984175    ...     0.991703   \n",
      "1362523   0.999941  0.999924  0.999969  0.999887    ...     0.999414   \n",
      "1341689   0.999930  0.999912  0.999962  0.999873    ...     0.999446   \n",
      "1274373   0.999891  0.999868  0.999931  0.999821    ...     0.999540   \n",
      "1281342   0.999893  0.999871  0.999933  0.999825    ...     0.999535   \n",
      "1310448   0.999915  0.999895  0.999950  0.999853    ...     0.999486   \n",
      "1305035   0.999912  0.999892  0.999948  0.999849    ...     0.999493   \n",
      "1416691   0.999993  0.999987  1.000000  0.999970    ...     0.999139   \n",
      "1097032   0.999414  0.999363  0.999514  0.999264    ...     0.999941   \n",
      "1099605   0.999421  0.999369  0.999520  0.999271    ...     0.999939   \n",
      "1108541   0.999439  0.999388  0.999536  0.999292    ...     0.999933   \n",
      "1111961   0.999451  0.999402  0.999548  0.999306    ...     0.999928   \n",
      "989943    0.998983  0.998915  0.999116  0.998788    ...     1.000000   \n",
      "1031514   0.999294  0.999237  0.999404  0.999130    ...     0.999972   \n",
      "1210055   0.999734  0.999699  0.999800  0.999631    ...     0.999757   \n",
      "1208694   0.999732  0.999697  0.999798  0.999628    ...     0.999759   \n",
      "1199812   0.999724  0.999689  0.999791  0.999619    ...     0.999766   \n",
      "1250174   0.999830  0.999802  0.999881  0.999745    ...     0.999645   \n",
      "1227999   0.999759  0.999726  0.999821  0.999660    ...     0.999732   \n",
      "1127960   0.999574  0.999530  0.999658  0.999445    ...     0.999873   \n",
      "1127154   0.999567  0.999523  0.999652  0.999437    ...     0.999877   \n",
      "1178171   0.999705  0.999668  0.999774  0.999596    ...     0.999783   \n",
      "\n",
      "ncodpers   1031514   1210055   1208694   1199812   1250174   1227999  \\\n",
      "ncodpers                                                               \n",
      "1096068   0.999841  0.999995  0.999994  0.999993  0.999999  0.999998   \n",
      "930405    0.999995  0.999934  0.999935  0.999939  0.999871  0.999921   \n",
      "1011009   0.999941  0.999993  0.999993  0.999995  0.999966  0.999988   \n",
      "977701    0.999981  0.999965  0.999966  0.999969  0.999916  0.999955   \n",
      "972705    0.999982  0.999963  0.999964  0.999967  0.999913  0.999953   \n",
      "1298480   0.999263  0.999716  0.999713  0.999705  0.999815  0.999741   \n",
      "1285560   0.999294  0.999734  0.999732  0.999724  0.999830  0.999759   \n",
      "1308212   0.999237  0.999699  0.999697  0.999689  0.999802  0.999726   \n",
      "1254565   0.999404  0.999800  0.999798  0.999791  0.999881  0.999821   \n",
      "1368879   0.999130  0.999631  0.999628  0.999619  0.999745  0.999660   \n",
      "1321291   0.999217  0.999686  0.999684  0.999675  0.999791  0.999713   \n",
      "1322742   0.999217  0.999686  0.999684  0.999675  0.999791  0.999713   \n",
      "1326813   0.999212  0.999683  0.999681  0.999672  0.999788  0.999710   \n",
      "1173622   0.999621  0.999915  0.999914  0.999910  0.999965  0.999929   \n",
      "1144358   0.999662  0.999934  0.999933  0.999929  0.999976  0.999946   \n",
      "1153570   0.999654  0.999931  0.999930  0.999925  0.999974  0.999943   \n",
      "1251808   0.999424  0.999812  0.999810  0.999803  0.999890  0.999832   \n",
      "1203465   0.999584  0.999898  0.999896  0.999891  0.999953  0.999913   \n",
      "1206494   0.999582  0.999897  0.999895  0.999890  0.999952  0.999912   \n",
      "1204354   0.999583  0.999897  0.999896  0.999891  0.999952  0.999912   \n",
      "292632    0.991939  0.989992  0.990005  0.990053  0.989333  0.989837   \n",
      "230737    0.990696  0.988612  0.988626  0.988678  0.987910  0.988447   \n",
      "245974    0.990995  0.988943  0.988957  0.989007  0.988251  0.988780   \n",
      "247700    0.991543  0.989551  0.989565  0.989614  0.988878  0.989394   \n",
      "384188    0.993745  0.992016  0.992028  0.992071  0.991426  0.991878   \n",
      "410100    0.994200  0.992531  0.992542  0.992584  0.991959  0.992397   \n",
      "396370    0.993859  0.992145  0.992157  0.992200  0.991560  0.992008   \n",
      "90700     0.983356  0.980610  0.980628  0.980695  0.979699  0.980395   \n",
      "92279     0.983592  0.980865  0.980883  0.980950  0.979960  0.980652   \n",
      "106842    0.999011  0.998259  0.998264  0.998285  0.997977  0.998194   \n",
      "...            ...       ...       ...       ...       ...       ...   \n",
      "422444    0.993059  0.991244  0.991256  0.991302  0.990627  0.991099   \n",
      "463180    0.994242  0.992578  0.992590  0.992632  0.992009  0.992445   \n",
      "438897    0.993599  0.991852  0.991864  0.991907  0.991256  0.991712   \n",
      "298206    0.990180  0.988042  0.988057  0.988109  0.987323  0.987873   \n",
      "262165    0.989459  0.987248  0.987263  0.987317  0.986506  0.987074   \n",
      "270300    0.989760  0.987579  0.987594  0.987648  0.986847  0.987408   \n",
      "363248    0.991289  0.989269  0.989282  0.989333  0.988587  0.989109   \n",
      "341041    0.990795  0.988722  0.988736  0.988788  0.988024  0.988558   \n",
      "333912    0.990709  0.988627  0.988641  0.988692  0.987925  0.988462   \n",
      "1362523   0.999643  0.999926  0.999925  0.999920  0.999971  0.999939   \n",
      "1341689   0.999668  0.999937  0.999936  0.999932  0.999978  0.999949   \n",
      "1274373   0.999740  0.999966  0.999965  0.999962  0.999993  0.999974   \n",
      "1281342   0.999736  0.999964  0.999964  0.999961  0.999993  0.999973   \n",
      "1310448   0.999699  0.999950  0.999949  0.999945  0.999985  0.999960   \n",
      "1305035   0.999704  0.999952  0.999951  0.999948  0.999986  0.999962   \n",
      "1416691   0.999423  0.999811  0.999809  0.999803  0.999890  0.999832   \n",
      "1097032   0.999994  0.999937  0.999938  0.999942  0.999875  0.999925   \n",
      "1099605   0.999994  0.999940  0.999941  0.999944  0.999878  0.999927   \n",
      "1108541   0.999992  0.999945  0.999946  0.999950  0.999887  0.999933   \n",
      "1111961   0.999990  0.999949  0.999950  0.999954  0.999892  0.999938   \n",
      "989943    0.999972  0.999757  0.999759  0.999766  0.999645  0.999732   \n",
      "1031514   1.000000  0.999894  0.999896  0.999901  0.999817  0.999878   \n",
      "1210055   0.999894  1.000000  1.000000  1.000000  0.999989  0.999999   \n",
      "1208694   0.999896  1.000000  1.000000  1.000000  0.999989  0.999999   \n",
      "1199812   0.999901  1.000000  1.000000  1.000000  0.999987  0.999999   \n",
      "1250174   0.999817  0.999989  0.999989  0.999987  1.000000  0.999994   \n",
      "1227999   0.999878  0.999999  0.999999  0.999999  0.999994  1.000000   \n",
      "1127960   0.999965  0.999981  0.999982  0.999984  0.999942  0.999974   \n",
      "1127154   0.999967  0.999980  0.999980  0.999982  0.999940  0.999972   \n",
      "1178171   0.999912  0.999999  0.999999  1.000000  0.999983  0.999997   \n",
      "\n",
      "ncodpers   1127960   1127154   1178171  \n",
      "ncodpers                                \n",
      "1096068   0.999955  0.999953  0.999990  \n",
      "930405    0.999986  0.999987  0.999948  \n",
      "1011009   0.999997  0.999996  0.999997  \n",
      "977701    0.999998  0.999998  0.999975  \n",
      "972705    0.999997  0.999997  0.999973  \n",
      "1298480   0.999550  0.999544  0.999685  \n",
      "1285560   0.999574  0.999567  0.999705  \n",
      "1308212   0.999530  0.999523  0.999668  \n",
      "1254565   0.999658  0.999652  0.999774  \n",
      "1368879   0.999445  0.999437  0.999596  \n",
      "1321291   0.999514  0.999507  0.999654  \n",
      "1322742   0.999514  0.999507  0.999654  \n",
      "1326813   0.999510  0.999503  0.999651  \n",
      "1173622   0.999817  0.999812  0.999898  \n",
      "1144358   0.999845  0.999841  0.999919  \n",
      "1153570   0.999839  0.999835  0.999915  \n",
      "1251808   0.999673  0.999668  0.999787  \n",
      "1203465   0.999791  0.999786  0.999879  \n",
      "1206494   0.999789  0.999785  0.999878  \n",
      "1204354   0.999790  0.999785  0.999878  \n",
      "292632    0.990841  0.990870  0.990167  \n",
      "230737    0.989519  0.989550  0.988799  \n",
      "245974    0.989836  0.989867  0.989127  \n",
      "247700    0.990419  0.990450  0.989731  \n",
      "384188    0.992772  0.992799  0.992172  \n",
      "410100    0.993262  0.993287  0.992682  \n",
      "396370    0.992895  0.992922  0.992301  \n",
      "90700     0.981796  0.981838  0.980854  \n",
      "92279     0.982043  0.982085  0.981107  \n",
      "106842    0.998603  0.998614  0.998332  \n",
      "...            ...       ...       ...  \n",
      "422444    0.992037  0.992065  0.991408  \n",
      "463180    0.993307  0.993333  0.992730  \n",
      "438897    0.992616  0.992643  0.992010  \n",
      "298206    0.988971  0.989004  0.988234  \n",
      "262165    0.988208  0.988242  0.987446  \n",
      "270300    0.988527  0.988560  0.987775  \n",
      "363248    0.990148  0.990179  0.989451  \n",
      "341041    0.989624  0.989656  0.988908  \n",
      "333912    0.989532  0.989564  0.988814  \n",
      "1362523   0.999832  0.999828  0.999910  \n",
      "1341689   0.999849  0.999845  0.999922  \n",
      "1274373   0.999896  0.999893  0.999955  \n",
      "1281342   0.999894  0.999890  0.999953  \n",
      "1310448   0.999869  0.999866  0.999937  \n",
      "1305035   0.999873  0.999869  0.999939  \n",
      "1416691   0.999673  0.999667  0.999786  \n",
      "1097032   0.999987  0.999988  0.999951  \n",
      "1099605   0.999988  0.999989  0.999952  \n",
      "1108541   0.999991  0.999992  0.999958  \n",
      "1111961   0.999992  0.999993  0.999961  \n",
      "989943    0.999873  0.999877  0.999783  \n",
      "1031514   0.999965  0.999967  0.999912  \n",
      "1210055   0.999981  0.999980  0.999999  \n",
      "1208694   0.999982  0.999980  0.999999  \n",
      "1199812   0.999984  0.999982  1.000000  \n",
      "1250174   0.999942  0.999940  0.999983  \n",
      "1227999   0.999974  0.999972  0.999997  \n",
      "1127960   1.000000  1.000000  0.999988  \n",
      "1127154   1.000000  1.000000  0.999987  \n",
      "1178171   0.999988  0.999987  1.000000  \n",
      "\n",
      "[782 rows x 782 columns]\n"
     ]
    }
   ],
   "source": [
    "from sklearn.metrics.pairwise import cosine_similarity\n",
    "\n",
    "sim = cosine_similarity(df_dummiesed,dense_output=False)\n",
    "df_sim = pd.DataFrame(sim,columns=df_dummiesed['ncodpers'],index=df_dummiesed['ncodpers'])\n",
    "\n",
    "print(df_sim)"
   ]
  },
  {
   "cell_type": "markdown",
   "metadata": {},
   "source": [
    "### 用持有產品的註記欄位來分群"
   ]
  },
  {
   "cell_type": "code",
   "execution_count": 13,
   "metadata": {
    "collapsed": true
   },
   "outputs": [],
   "source": [
    "df_p = df.drop_duplicates(subset=\"ncodpers\",keep=\"last\")\n",
    "pattern = re.compile(\"ind_.*_ult1\")\n",
    "prod_cols = [ x for x in df.columns if re.match(pattern,x) ]\n",
    "prod_cols.append(\"ncodpers\") #加上客戶代碼欄位\n",
    "\n",
    "df_p = df.loc[:,prod_cols]\n",
    "df_p = df_p.fillna(0)"
   ]
  },
  {
   "cell_type": "code",
   "execution_count": 32,
   "metadata": {},
   "outputs": [
    {
     "data": {
      "image/png": "[encoded data removed]",
      "text/plain": [
       "<matplotlib.figure.Figure at 0x10e1bb518>"
      ]
     },
     "metadata": {},
     "output_type": "display_data"
    }
   ],
   "source": [
    "p = []\n",
    "for n_clusters in range(2,20):\n",
    "    kmeans = KMeans(n_clusters=n_clusters)\n",
    "    kmeans.fit(df_p)\n",
    "\n",
    "    labels_p = kmeans.labels_\n",
    "    centroids = kmeans.cluster_centers_\n",
    "\n",
    "    p.append(silhouette_score(df_p, labels_p, metric='euclidean'))\n",
    "\n",
    "plt.plot(p)\n",
    "plt.xticks(np.linspace(2, 20, 10)) #我額外增加的，讓X軸座標能固定下來，方便觀察\n",
    "plt.ylabel(\"Silouette\")\n",
    "plt.xlabel(\"k\")\n",
    "plt.title(\"silhouette for K-means cell's behaviour\")\n",
    "sns.despine() #讓圖不要有上面和右邊的框線\n",
    "plt.show()"
   ]
  },
  {
   "cell_type": "markdown",
   "metadata": {},
   "source": [
    "silhouette輪廓係數: 一種估算分群開不開的指標<p>\n",
    "(b - a) / max(a, b)<p>\n",
    "a: 每個樣本點的組內距離平均；b: 每個樣本點的組間距離(非樣本點的組中，跟樣本點最近的組)平均"
   ]
  },
  {
   "cell_type": "code",
   "execution_count": 15,
   "metadata": {},
   "outputs": [
    {
     "data": {
      "image/png": "[encoded data removed]",
      "text/plain": [
       "<matplotlib.figure.Figure at 0x10db0f550>"
      ]
     },
     "metadata": {},
     "output_type": "display_data"
    }
   ],
   "source": [
    "from sklearn.cluster import KMeans\n",
    "p2 = []\n",
    "for i in range(1, 11):\n",
    "    kmeans = KMeans(n_clusters = i, init = 'k-means++', random_state = 42)\n",
    "    kmeans.fit(df_p)\n",
    "    p2.append(kmeans.inertia_)\n",
    "plt.plot(range(1, 11), p2)\n",
    "plt.xticks(np.linspace(1, 11, 11))\n",
    "plt.title('The Elbow Method')\n",
    "plt.xlabel('Number of clusters')\n",
    "plt.ylabel('WCSS')\n",
    "sns.despine()\n",
    "plt.show()"
   ]
  },
  {
   "cell_type": "code",
   "execution_count": 31,
   "metadata": {},
   "outputs": [
    {
     "name": "stdout",
     "output_type": "stream",
     "text": [
      "[4 4 4 4 4 4 2 2 2 2 2 2 2 2 4 4 4 4 4 2 2 2 2 2 2 1 3 1 1 1 3 3 3 3 1 1 1\n",
      " 1 1 1 1 0 0 0 3 3 3 0 3 3 0 0 0 3 3 3 3 0 0 0 0 0 0 0 1 1 1 1 3 3 3 2 2 2\n",
      " 2 4 4 2 4 2 2 2 2 2 2 4 4 4 4 4 4 4 4 4 4 4 4 4 4 4 4 4 3 0 0 3 3 3 0 0 0\n",
      " 0 0 1 1 1 1 1 1 1 1 1 1 1 3 3 3 3 1 1 3 3 2 2 2 4 2 2 2 2 2 1 2 2 2 2 4 4\n",
      " 4 4 4 4 4 4 0 3 3 3 3 0 0 0 0 0 0 0 1 1 1 1 1 1 1 3 3 3 3 2 2 2 2 2 2 2 4\n",
      " 2 2 2 2 2 2 2 2 4 4 4 4 4 4 4 4 4 4 4 4 4 4 4 4 4 4 2 2 2 2 2 2 2 2 2 2 2\n",
      " 1 1 3 3 3 3 1 1 1 1 1 1 0 0 0 0 0 0 3 3 3 0 4 4 4 4 4 4 4 4 4 4 4 4 4 4 4\n",
      " 2 2 2 2 2 2 2 4 2 3 1 3 3 3 1 1 1 1 1 0 3 3 0 0 0 0 0 0 0 0 0 0 0 3 3 3 4\n",
      " 4 0 4 0 0 1 1 1 1 1 1 1 3 3 1 1 1 3 4 4 4 4 4 4 4 4 4 4 4 4 4 4 4 4 4 4 4\n",
      " 4 4 4 2 2 2 2 2 2 2 2 2 2 2 4 4 4 4 0 0 0 0 4 4 4 4 4 4 4 4 3 3 3 3 0 0 0\n",
      " 0 0 0 0 2 2 2 2 2 2 2 2 2 2 2 2 2 2 2 2 2 4 4 4 4 4 2 2 2 2 4 4 4 1 1 1 1\n",
      " 1 1 1 3 3 3 1 1 1 1 3 3 3 3 3 0 3 3 3 3 3 3 3 0 0 4 4 4 0 1 1 1 1 1 3 3 3\n",
      " 1 1 2 2 2 0 0 0 0 2 2 2 0 0 4 4 4 4 4 4 4 4 4 2 2 2 2 2 2 2 2 2 4 2 4 4 4\n",
      " 4 4 4 4 4 4 4 2 2 2 2 2 2 2 2 2 2 2 2 2 2 2 2 2 2 1 3 3 3 1 1 1 1 1 1 1 1\n",
      " 0 0 0 0 4 4 4 4 3 0 3 3 3 3 0 0 0 3 3 3 3 3 3 3 3 0 0 0 0 0 0 0 0 2 1 2 1\n",
      " 1 1 2 2 2 2 2 2 1 1 1 1 1 1 1 1 1 2 2 2 2 2 4 2 2 2 2 2 2 2 2 2 4 4 4 4 4\n",
      " 4 4 4 4 4 4 4 4 4 4 4 4 4 4 4 4 4 4 4 4 4 4 4 4 0 0 0 4 4 4 2 2 2 2 2 2 2\n",
      " 4 4 4 1 1 1 3 1 1 1 1 3 3 3 1 1 1 1 1 1 1 1 0 0 0 0 0 3 3 3 3 3 3 3 2 2 2\n",
      " 2 2 2 2 2 2 2 2 2 2 2 2 2 2 1 1 1 1 1 1 1 2 2 2 2 2 2 2 2 2 2 2 2 2 2 4 4\n",
      " 1 2 2 2 2 2 0 0 0 0 0 0 0 4 4 4 0 0 4 3 3 3 3 3 3 0 0 0 4 3 3 3 3 3 3 3 3\n",
      " 3 3 3 4 4 4 4 4 4 4 4 2 2 2 2 2 2 2 2 2 2 2 2 2 2 2 2 2 2 2 2 3 3 3 3 3 3\n",
      " 0 0 0 3 0 1 1 1 1 1 1 1 4 4 4 4 4 4 4 4 2 0 0 4 4 4 4 2 2 2 2 2 2 2 2 2 2\n",
      " 2 2 2 2 2 1 1 1 1 1 1 1 3 3 2 3 3 1 3 3 3 0 0 0 4 0 4 4 3 0 0 3 3 3 0 0 0\n",
      " 4 4 2 2 4 2 4 4 4 4 4 4 4 0 0 0 0 3 3 3 3 3 2 2 0 0 0 0 0 0 1 1 1 1 1 1 3\n",
      " 3 1 3 3 3 3 4 4 4 4 4 4 4 4 4 4 4 4 4 2 2 2 2 2 2 2 2 2 2 2 2 2 2 2 2 2 2\n",
      " 2 2 2 2 0 0 0 0 0 0 0 4 4 4 4 4 0 0 0 1 1 1 1 1 1 1 1 1 3 3 3 3 3 3 3 3 3\n",
      " 1 1 3 3 3 3 2 2 2 2 2 2 2 2 2 2 2 2 2 2 2 4 4 4 4 4 4 4 2 2 2 2 2 4 4 4 4\n",
      " 4]\n"
     ]
    },
    {
     "data": {
      "image/png": "[encoded data removed]",
      "text/plain": [
       "<matplotlib.figure.Figure at 0x10ec68c50>"
      ]
     },
     "metadata": {},
     "output_type": "display_data"
    }
   ],
   "source": [
    "N_CLUSTERS = 5 #labels為群0-群4\n",
    "kmeans = KMeans(n_clusters=N_CLUSTERS)\n",
    "kmeans.fit(df_p)\n",
    "\n",
    "print(kmeans.labels_)\n",
    "plt.hist(kmeans.labels_,bins=[0,1, 2, 3, 4,5])\n",
    "plt.show()"
   ]
  },
  {
   "cell_type": "markdown",
   "metadata": {
    "collapsed": true
   },
   "source": [
    "### 總結\n",
    "1. 在資料預處理時，要特別注意資料類型，將類別變數全部轉為虛擬變數後計算出來的相似度不具有意義；<p>\n",
    "2. 另外補值的方法也不能全部補平均值，像是類別變數轉為虛擬變數補進平均值沒有意義；<p>\n",
    "3. 分群後可以將同一群的再進行資料探索，可能可找到顯著差異，再依序建多個模型。<p>"
   ]
  }
 ],
 "metadata": {
  "kernelspec": {
   "display_name": "Python 3",
   "language": "python",
   "name": "python3"
  },
  "language_info": {
   "codemirror_mode": {
    "name": "ipython",
    "version": 3
   },
   "file_extension": ".py",
   "mimetype": "text/x-python",
   "name": "python",
   "nbconvert_exporter": "python",
   "pygments_lexer": "ipython3",
   "version": "3.6.2"
  }
 },
 "nbformat": 4,
 "nbformat_minor": 2
}
