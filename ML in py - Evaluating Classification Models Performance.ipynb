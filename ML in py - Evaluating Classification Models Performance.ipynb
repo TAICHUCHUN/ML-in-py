{
 "cells": [
  {
   "attachments": {},
   "cell_type": "markdown",
   "metadata": {},
   "source": [
    "# Evaluating Classification Models Performance\n",
    "## 122. False Positives & False Negative\n",
    "![122.png](https://github.com/TAICHUCHUN/ML-in-py/blob/master/122.png?raw=true)\n",
    "False Positives和False Negative就是所謂的假陽和假陰，也就是常聽到的型一誤差(TYPE I ERROR)和型二誤差(TYPE II ERROR)，<br>\n",
    "白話一點解釋，型一誤差(假陽)就是實際上是不會發生但模型預測會發生，如圖中點#3；<br>\n",
    "型二誤差(假陰)則是實際上是會發生但模型預測不會發生，如圖中點#2，<br>\n",
    "一般來說型二誤差比較嚴重，因為我們關注想要用模型來預測的結果(發生)並沒有被有效預測出來，而型一誤差可把它視為一種警訊。<br>"
   ]
  },
  {
   "attachments": {},
   "cell_type": "markdown",
   "metadata": {},
   "source": [
    "## 123. Confusion Matrix\n",
    "![123.png](https://github.com/TAICHUCHUN/ML-in-py/blob/master/123.png?raw=true)\n",
    "混淆矩陣其實在過去課程的模型建立過程中有提到過，它可用來歸納預測結果好壞，列表示實際的結果、行表示預測的結果，<br>\n",
    "所以這個2*2矩陣的左上、右下就是預測準確的部分，右上是發生型一誤差、左下則是發生型二誤差。<br>\n",
    "這個矩陣也能方便我們計算: <br>\n",
    "準確率Accuracy Rate(AR) = correct / total = 85 / 100 = 85%<br>\n",
    "錯誤率Error Rate(ER) = wrong / total = 15 / 100 = 15%<br>"
   ]
  },
  {
   "attachments": {},
   "cell_type": "markdown",
   "metadata": {},
   "source": [
    "## 124. Accuracy paradox\n",
    "有些狀況下，其實準確率並無法反映模型的好壞，可藉由以下例子理解到:\n",
    "![124.png](https://github.com/TAICHUCHUN/ML-in-py/blob/master/124.png?raw=true)\n",
    "如果我們都預測為0，反而使準確度提升，這樣似乎並不合理，因此在發生和不發生數量上有懸殊差異時，不應僅用準確率來衡量模型好壞。\n",
    "![124-2.png](https://github.com/TAICHUCHUN/ML-in-py/blob/master/124-2.png?raw=true)"
   ]
  },
  {
   "attachments": {},
   "cell_type": "markdown",
   "metadata": {},
   "source": [
    "## 125. CAP Curve\n",
    "CAP(Cumulative Accuracy Profile)：評估預測模型效力的一種方式<br>\n",
    "概念是反應隨著抓取的樣本資料百分比量不同，指最有可能發生預測目標(eg. 發生購買行為)的前百分比資料，計算此一情形的模型預測出發生的筆數佔全部樣本資料發生的筆數，能作為模型好壞的評估。<br>\n",
    "先將x軸轉換為%單位，並將樣本依照最有可能發生->不可能發生進行排序，假設total共有100人，分成未購買人數90以及有購買人數10，取前10%(x軸)，共有10人，並找模型配適購買率90%以上，確實有購買的人數為8人，8/10=80%(y軸)，依照此規則，抓取各百分比的資料量，畫出CAP線。<br>\n",
    "Random: 這個模型預測結果是隨機的，代表這模型不具有任何預測能力;<br>\n",
    "Crystal Ball: 完美的預測模型效果。<br>\n",
    "CAP曲線越往左上，表示越接近完美的模型預測效果<br>\n",
    "![125.png](https://github.com/TAICHUCHUN/ML-in-py/blob/master/125.png?raw=true)"
   ]
  },
  {
   "attachments": {},
   "cell_type": "markdown",
   "metadata": {},
   "source": [
    "## 126. CAP Curve Analysis\n",
    "方法1: 將 CAP 曲線加以量化，以AR來衡量，評分模型的區別力，AR值會介於 0~100% 之間，愈接近 100%表示該模型之預測能力愈佳。<br>\n",
    "其中aP為完美模型與隨機模型間之面積；aR為實際評分模型與隨機模型間之面積。<br>\n",
    "![126.png](https://github.com/TAICHUCHUN/ML-in-py/blob/master/126.png?raw=true)\n",
    "方法2: 以50%作為區別度，依照X%座落的數值，可判別此模型的好壞，準則可參考圖中範圍。\n",
    "![126-2.png](https://github.com/TAICHUCHUN/ML-in-py/blob/master/126-2.png?raw=true)"
   ]
  },
  {
   "attachments": {},
   "cell_type": "markdown",
   "metadata": {},
   "source": [
    "## 補充 ROC (Receiver Operating Characteristic)\n",
    "ROC 不等於 CAP<br>\n",
    "ROC: 是一種分類器，可將資料進行二分法(FP%、TP%)，觀測其分類結果及趨勢。<br>\n",
    "<ul>\n",
    "<li>TP 為 True Positive 之意(混淆矩陣右下)，TP%即實際上發生且模型的估計結果也判定發生的比率(Y軸);<br>\n",
    "<li>FN 為 False Negative 之意(混淆矩陣左下)，FN%即實際上發生但模型的估計結果卻未判定是違約的比率，這種錯誤稱為型二誤差(Type II Error)，<br>\n",
    "在這樣的定義之下，TP%+FN%=1。<br>\n",
    "<li>FP 為 False Positive 之意(混淆矩陣右上)，FP%即實際上未發生但模型的估計結果卻判定為發生的比率(X軸)，這種錯誤稱為型一誤差(Type I Error);<br>\n",
    "<li>TN 為 True Negative 之意(混淆矩陣左上)，TN%即實際上未發生且模型的估計結果也判定未發生的比率，<br>\n",
    "這樣的定義之下，FP%+TN%=1。<br>\n",
    "</ul>\n",
    "\n",
    "依據不同的資料量抓取百分比 0~100%，可以得到不同的混淆矩陣，而 ROC曲線就是在繪製 FP%與 TP%之間的關係。<br>\n",
    "描繪 ROC曲線要先以對應 10%、15%、⋯、100% 的FP%，找到不同的資料量抓取百分比，再根據不同的資料量抓取百分比找到不同的 TP%。<br>\n",
    "![127.jpg](https://github.com/TAICHUCHUN/ML-in-py/blob/master/127.jpg?raw=true)\n",
    "ROC 曲線來看，在同一個 TP%之下，FP%越小，則代表造成的型一誤差越小，代表模型的檢測效力越好，因此ROC 曲線越往左上，ROC 曲線下的面積越大，則代表模型越好。"
   ]
  },
  {
   "cell_type": "code",
   "execution_count": null,
   "metadata": {
    "collapsed": true
   },
   "outputs": [],
   "source": []
  }
 ],
 "metadata": {
  "kernelspec": {
   "display_name": "Python 3",
   "language": "python",
   "name": "python3"
  },
  "language_info": {
   "codemirror_mode": {
    "name": "ipython",
    "version": 3
   },
   "file_extension": ".py",
   "mimetype": "text/x-python",
   "name": "python",
   "nbconvert_exporter": "python",
   "pygments_lexer": "ipython3",
   "version": "3.6.2"
  }
 },
 "nbformat": 4,
 "nbformat_minor": 2
}
